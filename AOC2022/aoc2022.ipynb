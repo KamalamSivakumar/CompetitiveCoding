{
 "cells": [
  {
   "cell_type": "code",
   "execution_count": null,
   "metadata": {},
   "outputs": [
    {
     "name": "stdout",
     "output_type": "stream",
     "text": [
      "part-1 74394\n",
      "part-2 212836\n"
     ]
    }
   ],
   "source": [
    "###Day1\n",
    "########## part-1\n",
    "with open(\"Inputs/day1.txt\", 'r') as file:\n",
    "    lines = file.read()\n",
    "\n",
    "cl = lines.split(\"\\n\\n\")\n",
    "\n",
    "calories_list = []\n",
    "for ele in cl:\n",
    "    calories_list.append(ele.split(\"\\n\"))\n",
    "\n",
    "final_calories = []\n",
    "\n",
    "for every in calories_list:\n",
    "    final_calories.append(sum(int(x) for x in every))\n",
    "\n",
    "print(\"part-1\", sorted(final_calories, reverse=True)[0])\n",
    "\n",
    "########## part-2\n",
    "print(\"part-2\", sum(sorted(final_calories, reverse=True)[:3]))"
   ]
  },
  {
   "cell_type": "code",
   "execution_count": 1,
   "metadata": {},
   "outputs": [
    {
     "name": "stdout",
     "output_type": "stream",
     "text": [
      "part-1 17189\n",
      "part-2 13490\n"
     ]
    }
   ],
   "source": [
    "###Day2\n",
    "########## part-1\n",
    "import numpy as np\n",
    "\n",
    "with open(\"Inputs/day2.txt\", 'r') as file:\n",
    "    lines = file.read()\n",
    "\n",
    "pair_scores = lines.split(\"\\n\")\n",
    "\n",
    "scores_dict = {\"player1\":[], \"player2\":[], \"player2_updated\":[]}\n",
    "points_mapping = {\"A\":1, \"B\":2, \"C\":3, \"X\":1, \"Y\":2, \"Z\":3}\n",
    "\n",
    "outcome_mapping = {\"X\":{\"B\":0, \"C\":6, \"A\":3}, \"Y\":{\"C\":0, \"B\": 3, \"A\":6}, \"Z\":{\"A\":0, \"C\":3, \"B\":6}} #from key perspective: lose, draw, win\n",
    "outcome_dict = {'outcome_score':[], 'outcome_score_updated':[]}\n",
    "\n",
    "part2_outcome_mapping = {\"A\": {\"X\":\"C\", \"Y\":\"A\", \"Z\":\"B\"}, \"B\": {\"X\":\"A\", \"Y\":\"B\", \"Z\":\"C\"}, \"C\":{\"X\":\"B\", \"Y\":\"C\", \"Z\":\"A\"}} #from key perspective: win, draw, lose\n",
    "part2_score_mapping = {\"X\":0, \"Y\":3, \"Z\":6}\n",
    "\n",
    "for ele in pair_scores:\n",
    "    scores_dict['player1'].append(points_mapping.get(ele.split(\" \")[0]))\n",
    "    scores_dict['player2'].append(points_mapping.get(ele.split(\" \")[1]))\n",
    "    outcome_dict['outcome_score'].append(outcome_mapping[ele.split(\" \")[1]][ele.split(\" \")[0]])\n",
    "    scores_dict['player2_updated'].append(points_mapping.get(part2_outcome_mapping[ele.split(\" \")[0]][ele.split(\" \")[1]]))\n",
    "    outcome_dict['outcome_score_updated'].append(part2_score_mapping.get(ele.split(\" \")[1]))\n",
    "    \n",
    "\n",
    "final_scores = np.array(scores_dict['player2']) + np.array(outcome_dict['outcome_score'])\n",
    "final_scores_part2 = np.array(scores_dict['player2_updated']) + np.array(outcome_dict['outcome_score_updated'])\n",
    "\n",
    "print(\"part-1\", final_scores.sum()) \n",
    "print(\"part-2\", final_scores_part2.sum()) \n"
   ]
  },
  {
   "cell_type": "code",
   "execution_count": null,
   "metadata": {},
   "outputs": [
    {
     "name": "stdout",
     "output_type": "stream",
     "text": [
      "part-1 7889\n",
      "part-2 2825\n"
     ]
    }
   ],
   "source": [
    "###Day3\n",
    "########## part-1\n",
    "with open(\"Inputs/day3.txt\", 'r') as file:\n",
    "    lines = file.read()\n",
    "\n",
    "rucksacks = lines.split(\"\\n\")\n",
    "\n",
    "lowercase = 'abcdefghijklmnopqrstuvwxyz'\n",
    "uppercase = 'ABCDEFGHIJKLMNOPQRSTUVWXYZ'\n",
    "lowercase_mapping = {lowercase[i]:i+1 for i in range(len(lowercase))}\n",
    "uppercase_mapping = {uppercase[i]:i+27 for i in range(len(uppercase))}\n",
    "\n",
    "intersection = {\"letter\": [], \"priority\":[]}\n",
    "group_intersection = {\"letter\":[], \"priority\":[]}\n",
    "\n",
    "for ele in rucksacks:\n",
    "    sack1 = ele[0:(len(ele)//2)]\n",
    "    sack2 = ele[len(ele)//2:len(ele)]\n",
    "    common = list(set(sack1) & set(sack2))[0]\n",
    "    intersection['letter'].append(common)\n",
    "    if common.islower():\n",
    "        intersection['priority'].append(lowercase_mapping[common])\n",
    "    elif common.isupper():\n",
    "        intersection['priority'].append(uppercase_mapping[common])\n",
    "    else:\n",
    "        intersection['priority'].append(0)\n",
    "\n",
    "########## part-2\n",
    "groups = [rucksacks[i:i+3] for i in range(0, len(rucksacks), 3)]\n",
    "\n",
    "for ele in groups:\n",
    "    common = list(set(ele[0])&set(ele[1])&set(ele[2]))[0]\n",
    "    group_intersection['letter'].append(common)\n",
    "    if common.islower():\n",
    "        group_intersection['priority'].append(lowercase_mapping[common])\n",
    "    elif common.isupper():\n",
    "        group_intersection['priority'].append(uppercase_mapping[common])\n",
    "    else:\n",
    "        group_intersection['priority'].append(0)\n",
    "\n",
    "print(\"part-1\", sum(intersection['priority']))\n",
    "print(\"part-2\", sum(group_intersection['priority']))\n",
    "    "
   ]
  }
 ],
 "metadata": {
  "kernelspec": {
   "display_name": "venv",
   "language": "python",
   "name": "python3"
  },
  "language_info": {
   "codemirror_mode": {
    "name": "ipython",
    "version": 3
   },
   "file_extension": ".py",
   "mimetype": "text/x-python",
   "name": "python",
   "nbconvert_exporter": "python",
   "pygments_lexer": "ipython3",
   "version": "3.12.7"
  }
 },
 "nbformat": 4,
 "nbformat_minor": 2
}
