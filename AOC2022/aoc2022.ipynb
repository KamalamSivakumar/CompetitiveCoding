{
 "cells": [
  {
   "cell_type": "code",
   "execution_count": 41,
   "metadata": {},
   "outputs": [
    {
     "name": "stdout",
     "output_type": "stream",
     "text": [
      "part-1 74394\n",
      "part-2 212836\n"
     ]
    }
   ],
   "source": [
    "########## part-1\n",
    "with open(\"Inputs/day1.txt\", 'r') as file:\n",
    "    lines = file.read()\n",
    "\n",
    "cl = lines.split(\"\\n\\n\")\n",
    "\n",
    "calories_list = []\n",
    "for ele in cl:\n",
    "    calories_list.append(ele.split(\"\\n\"))\n",
    "\n",
    "final_calories = []\n",
    "\n",
    "for every in calories_list:\n",
    "    final_calories.append(sum(int(x) for x in every))\n",
    "\n",
    "print(\"part-1\", sorted(final_calories, reverse=True)[0])\n",
    "\n",
    "########## part-2\n",
    "print(\"part-2\", sum(sorted(final_calories, reverse=True)[:3]))"
   ]
  },
  {
   "cell_type": "code",
   "execution_count": null,
   "metadata": {},
   "outputs": [],
   "source": []
  }
 ],
 "metadata": {
  "kernelspec": {
   "display_name": "Python 3",
   "language": "python",
   "name": "python3"
  },
  "language_info": {
   "codemirror_mode": {
    "name": "ipython",
    "version": 3
   },
   "file_extension": ".py",
   "mimetype": "text/x-python",
   "name": "python",
   "nbconvert_exporter": "python",
   "pygments_lexer": "ipython3",
   "version": "3.11.10"
  }
 },
 "nbformat": 4,
 "nbformat_minor": 2
}
